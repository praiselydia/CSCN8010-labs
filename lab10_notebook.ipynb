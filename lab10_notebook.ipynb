{
 "cells": [
  {
   "cell_type": "markdown",
   "metadata": {},
   "source": [
    "# Vanilla CNN and Fine-Tune VGG16 - for Dogs and Cats Classification\n",
    "\n",
    "### The dataset is of Dogs and Cats taken from [this Kaggle link](https://www.kaggle.com/competitions/dogs-vs-cats)\n",
    "\n",
    "### Dataset description given below was taken from [this notebook](https://github.com/praiselydia/CSCN8010-class-notebooks/blob/main/dl_class_notebooks/05A_asirra_the_dogs_vs_cats_dataset.ipynb)\n",
    "\n",
    "> ### The Asirra data set\n",
    ">Web services are often protected with a challenge that's supposed to be easy for people to solve, but difficult for computers. Such a challenge is often called a CAPTCHA (Completely Automated Public Turing test to tell Computers and Humans Apart). CAPTCHAs are used for many purposes, such as to reduce email and blog spam and prevent brute-force attacks on web site passwords.\n",
    "\n",
    ">Asirra (Animal Species Image Recognition for Restricting Access) is a CAPTCHA that works by asking users to identify photographs of cats and dogs. This task is difficult for computers, but studies have shown that people can accomplish it quickly and accurately. Many even think it's fun! Here is an example of the Asirra interface:\n",
    "\n",
    ">Asirra is unique because of its partnership with Petfinder.com, the world's largest site devoted to finding homes for homeless pets. They've provided Microsoft Research with over three million images of cats and dogs, manually classified by people at thousands of animal shelters across the United States. Kaggle is fortunate to offer a subset of this data for fun and research. "
   ]
  },
  {
   "cell_type": "markdown",
   "metadata": {},
   "source": [
    "### Importing Libraries:"
   ]
  },
  {
   "cell_type": "code",
   "execution_count": 1,
   "metadata": {},
   "outputs": [],
   "source": [
    "import os\n",
    "import glob\n",
    "import pathlib\n",
    "import shutil\n",
    "import numpy as np\n",
    "import matplotlib.pyplot as plt\n",
    "import tensorflow as tf\n",
    "from tensorflow.keras.preprocessing.image import ImageDataGenerator\n",
    "from tensorflow.keras.applications import VGG16\n",
    "from sklearn.metrics import classification_report, confusion_matrix, precision_recall_curve\n",
    "from sklearn.metrics import precision_recall_fscore_support\n",
    "from keras.callbacks import ModelCheckpoint\n",
    "from keras.models import load_model\n",
    "from sklearn.metrics import classification_report, confusion_matrix\n",
    "from sklearn.metrics import precision_recall_curve\n",
    "import matplotlib.pyplot as plt"
   ]
  },
  {
   "cell_type": "markdown",
   "metadata": {},
   "source": [
    "### Download Dataset:\n",
    "\n",
    "We have downloaded the dogs and cats dataset now into 'data/dogs_cats_train' directory. Observing the directory, there are images of cats and dogs within it. We will explore them and split them accordingly for our models."
   ]
  },
  {
   "cell_type": "code",
   "execution_count": 2,
   "metadata": {},
   "outputs": [],
   "source": [
    "original_dir = pathlib.Path(\"data/dogs_cats_train\")\n",
    "new_base_dir = pathlib.Path(\"data/dogs_cats_small\")"
   ]
  },
  {
   "cell_type": "markdown",
   "metadata": {},
   "source": [
    "### Exploratory Data Analysis:\n",
    "\n",
    "There are 25000 images in the training dataset. We can split the data into training, testing and validation dataset.\n",
    "\n",
    "Creating a new directory with train, validation and test split. Reference taken from [this notebook](https://github.com/praiselydia/CSCN8010-class-notebooks/blob/main/dl_class_notebooks/05A_asirra_the_dogs_vs_cats_dataset.ipynb). Each image used for training set is named 'cat.file_number' for cats and 'dog.file_number' for dogs. Based on that, we will split the dataset. \n",
    "\n",
    "Splitting each directory to contain small images of the dataset with 4500, 4000 and 4000 images for train, validation and test dataset respectively for each class."
   ]
  },
  {
   "cell_type": "code",
   "execution_count": 3,
   "metadata": {},
   "outputs": [],
   "source": [
    "def make_subset(subset_name, start_index, end_index):\n",
    "    for category in (\"cat\", \"dog\"):\n",
    "        dir = new_base_dir / subset_name / category\n",
    "        os.makedirs(dir)\n",
    "        fnames = [f\"{category}.{i}.jpg\" for i in range(start_index, end_index)]\n",
    "        for fname in fnames:\n",
    "            shutil.copyfile(src=original_dir / fname,\n",
    "                            dst=dir / fname)\n",
    "\n",
    "make_subset(\"train\", start_index=0, end_index=4500)\n",
    "make_subset(\"validation\", start_index=4500, end_index=8500)\n",
    "make_subset(\"test\", start_index=8500, end_index=12500)"
   ]
  },
  {
   "cell_type": "code",
   "execution_count": 4,
   "metadata": {},
   "outputs": [],
   "source": [
    "# Set directories for train and test datasets\n",
    "train_dir = 'data/dogs_cats_small/train'\n",
    "test_dir = 'data/dogs_cats_small/test'\n",
    "validation_dir = 'data/dogs_cats_small/validation'"
   ]
  },
  {
   "cell_type": "markdown",
   "metadata": {},
   "source": [
    "Lets plot a barplot based on the count of cats and dogs in training, testing and validation datasets. "
   ]
  },
  {
   "cell_type": "code",
   "execution_count": 5,
   "metadata": {},
   "outputs": [],
   "source": [
    "# Count the number of images in each class\n",
    "train_cats = len(os.listdir(os.path.join(train_dir, 'cat')))\n",
    "train_dogs = len(os.listdir(os.path.join(train_dir, 'dog')))\n",
    "test_cats = len(os.listdir(os.path.join(test_dir, 'cat')))\n",
    "test_dogs = len(os.listdir(os.path.join(test_dir, 'dog')))\n",
    "validation_cats = len(os.listdir(os.path.join(validation_dir, 'cat')))\n",
    "validation_dogs = len(os.listdir(os.path.join(validation_dir, 'dog')))"
   ]
  },
  {
   "cell_type": "code",
   "execution_count": 6,
   "metadata": {},
   "outputs": [
    {
     "data": {
      "text/plain": [
       "<matplotlib.legend.Legend at 0x20ff35cd710>"
      ]
     },
     "execution_count": 6,
     "metadata": {},
     "output_type": "execute_result"
    },
    {
     "data": {
      "image/png": "[encoded data removed]",
      "text/plain": [
       "<Figure size 640x480 with 1 Axes>"
      ]
     },
     "metadata": {},
     "output_type": "display_data"
    }
   ],
   "source": [
    "# Plot the distribution of classes in the dataset\n",
    "labels = ['Train', 'Test', 'Validation']\n",
    "cats = [train_cats, test_cats, validation_cats]\n",
    "dogs = [train_dogs, test_dogs, validation_dogs]\n",
    "\n",
    "x = np.arange(len(labels))\n",
    "width = 0.35\n",
    "\n",
    "fig, ax = plt.subplots()\n",
    "rects1 = ax.bar(x - width/2, cats, width, label='Cat')\n",
    "rects2 = ax.bar(x + width/2, dogs, width, label='Dog')\n",
    "\n",
    "ax.set_ylabel('Number of Images')\n",
    "ax.set_title('Distribution of Classes')\n",
    "ax.set_xticks(x)\n",
    "ax.set_xticklabels(labels)\n",
    "ax.legend()"
   ]
  },
  {
   "cell_type": "markdown",
   "metadata": {},
   "source": [
    "The plot shows that we have split more data for training when compared to testing and validation. The chart shows the exact count of how much each split contains. 4500 for training, 4000 fot testing and 4000 for validation."
   ]
  },
  {
   "cell_type": "markdown",
   "metadata": {},
   "source": [
    "### Model 1:\n",
    "\n",
    "Lets define out first model of neural network."
   ]
  },
  {
   "cell_type": "code",
   "execution_count": 7,
   "metadata": {},
   "outputs": [],
   "source": [
    "from keras import models\n",
    "from keras import layers\n",
    "from keras import optimizers"
   ]
  },
  {
   "cell_type": "code",
   "execution_count": 8,
   "metadata": {},
   "outputs": [],
   "source": [
    "# Define a Neural Network of your choice\n",
    "model1 = models.Sequential([\n",
    "    layers.Conv2D(32, (3, 3), activation='relu', input_shape=(150, 150, 3)),\n",
    "    layers.MaxPooling2D((2, 2)),\n",
    "    layers.Conv2D(64, (3, 3), activation='relu'),\n",
    "    layers.MaxPooling2D((2, 2)),\n",
    "    layers.Conv2D(128, (3, 3), activation='relu'),\n",
    "    layers.MaxPooling2D((2, 2)),\n",
    "    layers.Conv2D(128, (3, 3), activation='relu'),\n",
    "    layers.MaxPooling2D((2, 2)),\n",
    "    layers.Flatten(),\n",
    "    layers.Dense(512, activation='relu'),\n",
    "    layers.Dense(1, activation='sigmoid')\n",
    "])"
   ]
  },
  {
   "cell_type": "markdown",
   "metadata": {},
   "source": [
    "The first Conv2D layer has 32 filters of size (3, 3), which means it convolves the input image with 32 different 3x3 kernels. The activation function used here is ReLU (Rectified Linear Unit), which introduces non-linearity into the model. The subsequent Conv2D layers have 64, 128, and 128 filters respectively, each followed by a ReLU activation function. These layers help the model learn increasingly complex features from the input images.\n",
    "\n",
    "After each Conv2D layer, there's a MaxPooling2D layer with a pool size of (2, 2), which reduces the spatial dimensions (width and height) of the input feature maps by a factor of 2. This helps in reducing computation and controlling overfitting by retaining the most important features.\n",
    "\n",
    "The flatten layer flattens the 3D output tensor from the convolutional and pooling layers into a 1D vector, which can be fed into the densely connected layers.\n",
    "\n",
    "There's a Dense layer with 512 units and ReLU activation function. This layer acts as a feature extractor, capturing high-level features from the flattened input. The final Dense layer has a single neuron with a sigmoid activation function. It produces the output of the network, which is a probability score indicating the likelihood of the input image belonging to a particular class (in this case, a binary classification of cat or dog).\n",
    "\n",
    "ReLU (Rectified Linear Unit) activation function is used in the convolutional layers and the first dense layer. It introduces non-linearity and helps the model learn complex patterns. Sigmoid activation function is used in the output layer. It squashes the output between 0 and 1, effectively producing a probability indicating the likelihood of the input belonging to one of the classes."
   ]
  },
  {
   "cell_type": "code",
   "execution_count": 9,
   "metadata": {},
   "outputs": [
    {
     "name": "stderr",
     "output_type": "stream",
     "text": [
      "c:\\Users\\prais\\Workspace\\MLFoundations\\CSCN8010-class-notebooks\\venv\\tensorflow_cpu\\Lib\\site-packages\\keras\\optimizers\\legacy\\rmsprop.py:143: UserWarning: The `lr` argument is deprecated, use `learning_rate` instead.\n",
      "  super().__init__(name, **kwargs)\n"
     ]
    }
   ],
   "source": [
    "model1.compile(optimizer=optimizers.RMSprop(lr=1e-4),\n",
    "              loss='binary_crossentropy',\n",
    "              metrics=['accuracy'])"
   ]
  },
  {
   "cell_type": "markdown",
   "metadata": {},
   "source": [
    "### Model 2:\n",
    "\n",
    "We're using Fine-tune VGG16. It refers to the process of taking a pre-trained VGG16 model (which has been trained on a large dataset, typically ImageNet), and then further training it on a new dataset specific to a particular task. VGG16 is a convolutional neural network architecture proposed by the Visual Geometry Group at Oxford, which achieved outstanding performance on the ImageNet Large Scale Visual Recognition Challenge (ILSVRC) in 2014."
   ]
  },
  {
   "cell_type": "code",
   "execution_count": 10,
   "metadata": {},
   "outputs": [],
   "source": [
    "# Fine-Tune VGG16\n",
    "conv_base = VGG16(weights='imagenet',\n",
    "                  include_top=False,\n",
    "                  input_shape=(150, 150, 3))"
   ]
  },
  {
   "cell_type": "markdown",
   "metadata": {},
   "source": [
    "The weight parameter specifies that the model should be initialized with pre-trained weights that were trained on the ImageNet dataset. ImageNet is a large-scale dataset with millions of labeled images spanning thousands of classes. Pre-training on ImageNet allows the model to capture general features from a wide variety of images, which can then be fine-tuned for specific tasks.\n",
    "\n",
    "The include_top parameter indicates that the fully connected layers (or the \"top\" layers) of the VGG16 model should not be included. By setting this parameter to False, only the convolutional base of the VGG16 model will be loaded, excluding the dense layers responsible for classification. We typically exclude the top layers when we intend to use the pre-trained model as a feature extractor or when we want to add our own custom classification layers on top.\n",
    "\n",
    "The input_shape parameter specifies the shape of the input images that the model expects. VGG16 was originally trained on images of size 224x224x3 (where 3 represents the three color channels: Red, Green, and Blue). However, in this case, we're specifying a different input shape of 150x150x3. This is often done for computational efficiency or to adapt the model to a specific task where smaller input sizes are sufficient. The input shape should match the size of the images in the dataset that will be fed into the model."
   ]
  },
  {
   "cell_type": "code",
   "execution_count": 11,
   "metadata": {},
   "outputs": [],
   "source": [
    "model2 = models.Sequential([\n",
    "    conv_base,\n",
    "    layers.Flatten(),\n",
    "    layers.Dense(256, activation='relu'),\n",
    "    layers.Dense(1, activation='sigmoid')\n",
    "])\n",
    "\n",
    "conv_base.trainable = False"
   ]
  },
  {
   "cell_type": "code",
   "execution_count": 12,
   "metadata": {},
   "outputs": [],
   "source": [
    "model2.compile(optimizer=optimizers.RMSprop(lr=2e-5),\n",
    "               loss='binary_crossentropy',\n",
    "               metrics=['accuracy'])"
   ]
  },
  {
   "cell_type": "markdown",
   "metadata": {},
   "source": [
    "#### Training both models and using callback to save models:\n",
    "\n",
    "The callbacks will save Model 1 into model1_best.h5 and Model 2 into model2_best.h5 file and will use the best model derived from the epochs to validate the validation set."
   ]
  },
  {
   "cell_type": "code",
   "execution_count": 13,
   "metadata": {},
   "outputs": [],
   "source": [
    "# Define checkpoint to save the best model\n",
    "checkpoint1 = ModelCheckpoint(\"model1_best.h5\", monitor='val_accuracy', verbose=1, save_best_only=True, mode='max')\n",
    "checkpoint2 = ModelCheckpoint(\"model2_best.h5\", monitor='val_accuracy', verbose=1, save_best_only=True, mode='max')"
   ]
  },
  {
   "cell_type": "code",
   "execution_count": 14,
   "metadata": {},
   "outputs": [],
   "source": [
    "# Set up data generators\n",
    "train_datagen = ImageDataGenerator(rescale=1./255)\n",
    "test_datagen = ImageDataGenerator(rescale=1./255)"
   ]
  },
  {
   "cell_type": "code",
   "execution_count": 15,
   "metadata": {},
   "outputs": [
    {
     "name": "stdout",
     "output_type": "stream",
     "text": [
      "Found 9000 images belonging to 2 classes.\n",
      "Found 8000 images belonging to 2 classes.\n"
     ]
    }
   ],
   "source": [
    "train_generator = train_datagen.flow_from_directory(\n",
    "    train_dir,\n",
    "    target_size=(150, 150),\n",
    "    batch_size=20,\n",
    "    class_mode='binary')\n",
    "\n",
    "validation_generator = test_datagen.flow_from_directory(\n",
    "    validation_dir,\n",
    "    target_size=(150, 150),\n",
    "    batch_size=20,\n",
    "    class_mode='binary')"
   ]
  },
  {
   "cell_type": "code",
   "execution_count": 16,
   "metadata": {},
   "outputs": [
    {
     "name": "stdout",
     "output_type": "stream",
     "text": [
      "Epoch 1/30\n",
      "100/100 [==============================] - ETA: 0s - loss: 0.6900 - accuracy: 0.5480\n",
      "Epoch 1: val_accuracy improved from -inf to 0.50300, saving model to model1_best.h5\n",
      "100/100 [==============================] - 195s 2s/step - loss: 0.6900 - accuracy: 0.5480 - val_loss: 0.6881 - val_accuracy: 0.5030\n",
      "Epoch 2/30\n",
      "100/100 [==============================] - ETA: 0s - loss: 0.6605 - accuracy: 0.5895\n",
      "Epoch 2: val_accuracy improved from 0.50300 to 0.56800, saving model to model1_best.h5\n",
      "100/100 [==============================] - 186s 2s/step - loss: 0.6605 - accuracy: 0.5895 - val_loss: 0.6629 - val_accuracy: 0.5680\n",
      "Epoch 3/30\n",
      "100/100 [==============================] - ETA: 0s - loss: 0.6353 - accuracy: 0.6500\n",
      "Epoch 3: val_accuracy improved from 0.56800 to 0.66200, saving model to model1_best.h5\n",
      "100/100 [==============================] - 191s 2s/step - loss: 0.6353 - accuracy: 0.6500 - val_loss: 0.6290 - val_accuracy: 0.6620\n",
      "Epoch 4/30\n",
      "100/100 [==============================] - ETA: 0s - loss: 0.6161 - accuracy: 0.6675\n",
      "Epoch 4: val_accuracy improved from 0.66200 to 0.68600, saving model to model1_best.h5\n",
      "100/100 [==============================] - 186s 2s/step - loss: 0.6161 - accuracy: 0.6675 - val_loss: 0.5920 - val_accuracy: 0.6860\n",
      "Epoch 5/30\n",
      "100/100 [==============================] - ETA: 0s - loss: 0.5779 - accuracy: 0.7030\n",
      "Epoch 5: val_accuracy improved from 0.68600 to 0.69600, saving model to model1_best.h5\n",
      "100/100 [==============================] - 161s 2s/step - loss: 0.5779 - accuracy: 0.7030 - val_loss: 0.5778 - val_accuracy: 0.6960\n",
      "Epoch 6/30\n",
      "100/100 [==============================] - ETA: 0s - loss: 0.5620 - accuracy: 0.7115\n",
      "Epoch 6: val_accuracy improved from 0.69600 to 0.71400, saving model to model1_best.h5\n",
      "100/100 [==============================] - 84s 843ms/step - loss: 0.5620 - accuracy: 0.7115 - val_loss: 0.5639 - val_accuracy: 0.7140\n",
      "Epoch 7/30\n",
      "100/100 [==============================] - ETA: 0s - loss: 0.5568 - accuracy: 0.7065\n",
      "Epoch 7: val_accuracy improved from 0.71400 to 0.71500, saving model to model1_best.h5\n",
      "100/100 [==============================] - 82s 824ms/step - loss: 0.5568 - accuracy: 0.7065 - val_loss: 0.5537 - val_accuracy: 0.7150\n",
      "Epoch 8/30\n",
      "100/100 [==============================] - ETA: 0s - loss: 0.5346 - accuracy: 0.7200\n",
      "Epoch 8: val_accuracy did not improve from 0.71500\n",
      "100/100 [==============================] - 87s 867ms/step - loss: 0.5346 - accuracy: 0.7200 - val_loss: 0.5698 - val_accuracy: 0.6970\n",
      "Epoch 9/30\n",
      "100/100 [==============================] - ETA: 0s - loss: 0.5207 - accuracy: 0.7345\n",
      "Epoch 9: val_accuracy improved from 0.71500 to 0.72200, saving model to model1_best.h5\n",
      "100/100 [==============================] - 86s 859ms/step - loss: 0.5207 - accuracy: 0.7345 - val_loss: 0.5368 - val_accuracy: 0.7220\n",
      "Epoch 10/30\n",
      "100/100 [==============================] - ETA: 0s - loss: 0.5187 - accuracy: 0.7450\n",
      "Epoch 10: val_accuracy improved from 0.72200 to 0.73900, saving model to model1_best.h5\n",
      "100/100 [==============================] - 51s 509ms/step - loss: 0.5187 - accuracy: 0.7450 - val_loss: 0.5279 - val_accuracy: 0.7390\n",
      "Epoch 11/30\n",
      "100/100 [==============================] - ETA: 0s - loss: 0.5048 - accuracy: 0.7515\n",
      "Epoch 11: val_accuracy improved from 0.73900 to 0.75300, saving model to model1_best.h5\n",
      "100/100 [==============================] - 22s 222ms/step - loss: 0.5048 - accuracy: 0.7515 - val_loss: 0.5392 - val_accuracy: 0.7530\n",
      "Epoch 12/30\n",
      "100/100 [==============================] - ETA: 0s - loss: 0.4893 - accuracy: 0.7720\n",
      "Epoch 12: val_accuracy improved from 0.75300 to 0.78100, saving model to model1_best.h5\n",
      "100/100 [==============================] - 22s 216ms/step - loss: 0.4893 - accuracy: 0.7720 - val_loss: 0.4783 - val_accuracy: 0.7810\n",
      "Epoch 13/30\n",
      "100/100 [==============================] - ETA: 0s - loss: 0.4808 - accuracy: 0.7750\n",
      "Epoch 13: val_accuracy did not improve from 0.78100\n",
      "100/100 [==============================] - 22s 218ms/step - loss: 0.4808 - accuracy: 0.7750 - val_loss: 0.5101 - val_accuracy: 0.7430\n",
      "Epoch 14/30\n",
      "100/100 [==============================] - ETA: 0s - loss: 0.4556 - accuracy: 0.7835\n",
      "Epoch 14: val_accuracy did not improve from 0.78100\n",
      "100/100 [==============================] - 21s 215ms/step - loss: 0.4556 - accuracy: 0.7835 - val_loss: 0.4904 - val_accuracy: 0.7610\n",
      "Epoch 15/30\n",
      "100/100 [==============================] - ETA: 0s - loss: 0.4621 - accuracy: 0.7845\n",
      "Epoch 15: val_accuracy did not improve from 0.78100\n",
      "100/100 [==============================] - 22s 219ms/step - loss: 0.4621 - accuracy: 0.7845 - val_loss: 0.4928 - val_accuracy: 0.7670\n",
      "Epoch 16/30\n",
      "100/100 [==============================] - ETA: 0s - loss: 0.4410 - accuracy: 0.7985\n",
      "Epoch 16: val_accuracy improved from 0.78100 to 0.78200, saving model to model1_best.h5\n",
      "100/100 [==============================] - 22s 222ms/step - loss: 0.4410 - accuracy: 0.7985 - val_loss: 0.4756 - val_accuracy: 0.7820\n",
      "Epoch 17/30\n",
      "100/100 [==============================] - ETA: 0s - loss: 0.4460 - accuracy: 0.7900\n",
      "Epoch 17: val_accuracy did not improve from 0.78200\n",
      "100/100 [==============================] - 22s 220ms/step - loss: 0.4460 - accuracy: 0.7900 - val_loss: 0.4938 - val_accuracy: 0.7550\n",
      "Epoch 18/30\n",
      "100/100 [==============================] - ETA: 0s - loss: 0.4390 - accuracy: 0.7935\n",
      "Epoch 18: val_accuracy did not improve from 0.78200\n",
      "100/100 [==============================] - 22s 220ms/step - loss: 0.4390 - accuracy: 0.7935 - val_loss: 0.4534 - val_accuracy: 0.7800\n",
      "Epoch 19/30\n",
      "100/100 [==============================] - ETA: 0s - loss: 0.4480 - accuracy: 0.7885\n",
      "Epoch 19: val_accuracy did not improve from 0.78200\n",
      "100/100 [==============================] - 22s 221ms/step - loss: 0.4480 - accuracy: 0.7885 - val_loss: 0.4606 - val_accuracy: 0.7780\n",
      "Epoch 20/30\n",
      "100/100 [==============================] - ETA: 0s - loss: 0.4129 - accuracy: 0.8120\n",
      "Epoch 20: val_accuracy improved from 0.78200 to 0.79300, saving model to model1_best.h5\n",
      "100/100 [==============================] - 22s 221ms/step - loss: 0.4129 - accuracy: 0.8120 - val_loss: 0.4484 - val_accuracy: 0.7930\n",
      "Epoch 21/30\n",
      "100/100 [==============================] - ETA: 0s - loss: 0.4251 - accuracy: 0.8085\n",
      "Epoch 21: val_accuracy did not improve from 0.79300\n",
      "100/100 [==============================] - 22s 220ms/step - loss: 0.4251 - accuracy: 0.8085 - val_loss: 0.4960 - val_accuracy: 0.7700\n",
      "Epoch 22/30\n",
      "100/100 [==============================] - ETA: 0s - loss: 0.3980 - accuracy: 0.8285\n",
      "Epoch 22: val_accuracy did not improve from 0.79300\n",
      "100/100 [==============================] - 22s 218ms/step - loss: 0.3980 - accuracy: 0.8285 - val_loss: 0.4491 - val_accuracy: 0.7750\n",
      "Epoch 23/30\n",
      "100/100 [==============================] - ETA: 0s - loss: 0.4050 - accuracy: 0.8185\n",
      "Epoch 23: val_accuracy did not improve from 0.79300\n",
      "100/100 [==============================] - 22s 219ms/step - loss: 0.4050 - accuracy: 0.8185 - val_loss: 0.5196 - val_accuracy: 0.7700\n",
      "Epoch 24/30\n",
      "100/100 [==============================] - ETA: 0s - loss: 0.3759 - accuracy: 0.8410\n",
      "Epoch 24: val_accuracy improved from 0.79300 to 0.80500, saving model to model1_best.h5\n",
      "100/100 [==============================] - 22s 224ms/step - loss: 0.3759 - accuracy: 0.8410 - val_loss: 0.4362 - val_accuracy: 0.8050\n",
      "Epoch 25/30\n",
      "100/100 [==============================] - ETA: 0s - loss: 0.3822 - accuracy: 0.8320\n",
      "Epoch 25: val_accuracy did not improve from 0.80500\n",
      "100/100 [==============================] - 23s 227ms/step - loss: 0.3822 - accuracy: 0.8320 - val_loss: 0.4520 - val_accuracy: 0.7930\n",
      "Epoch 26/30\n",
      "100/100 [==============================] - ETA: 0s - loss: 0.4035 - accuracy: 0.8155\n",
      "Epoch 26: val_accuracy did not improve from 0.80500\n",
      "100/100 [==============================] - 22s 222ms/step - loss: 0.4035 - accuracy: 0.8155 - val_loss: 0.4321 - val_accuracy: 0.7970\n",
      "Epoch 27/30\n",
      "100/100 [==============================] - ETA: 0s - loss: 0.3783 - accuracy: 0.8375\n",
      "Epoch 27: val_accuracy did not improve from 0.80500\n",
      "100/100 [==============================] - 21s 213ms/step - loss: 0.3783 - accuracy: 0.8375 - val_loss: 0.4246 - val_accuracy: 0.7950\n",
      "Epoch 28/30\n",
      "100/100 [==============================] - ETA: 0s - loss: 0.3604 - accuracy: 0.8315\n",
      "Epoch 28: val_accuracy did not improve from 0.80500\n",
      "100/100 [==============================] - 21s 212ms/step - loss: 0.3604 - accuracy: 0.8315 - val_loss: 0.4432 - val_accuracy: 0.7960\n",
      "Epoch 29/30\n",
      "100/100 [==============================] - ETA: 0s - loss: 0.3748 - accuracy: 0.8250\n",
      "Epoch 29: val_accuracy improved from 0.80500 to 0.81600, saving model to model1_best.h5\n",
      "100/100 [==============================] - 22s 223ms/step - loss: 0.3748 - accuracy: 0.8250 - val_loss: 0.4147 - val_accuracy: 0.8160\n",
      "Epoch 30/30\n",
      "100/100 [==============================] - ETA: 0s - loss: 0.3531 - accuracy: 0.8420\n",
      "Epoch 30: val_accuracy did not improve from 0.81600\n",
      "100/100 [==============================] - 22s 220ms/step - loss: 0.3531 - accuracy: 0.8420 - val_loss: 0.4380 - val_accuracy: 0.7830\n"
     ]
    }
   ],
   "source": [
    "# Train the first model\n",
    "history1 = model1.fit(\n",
    "    train_generator,\n",
    "    steps_per_epoch=100,\n",
    "    epochs=30,\n",
    "    validation_data=validation_generator,\n",
    "    validation_steps=50,\n",
    "    callbacks=[checkpoint1])"
   ]
  },
  {
   "cell_type": "markdown",
   "metadata": {},
   "source": [
    "The loss (training error) decreases gradually over epochs, indicating that the model is learning to fit the training data better. Meanwhile, the accuracy increases, showing that the model is improving in its ability to correctly classify samples. The model's performance on the validation set (measured by validation loss and accuracy) generally improves over epochs, although there are fluctuations. This indicates that the model is not overfitting severely to the training data and is generalizing reasonably well to unseen data. The best model is saved based on validation accuracy using ModelCheckpoint callbacks, ensuring that the model with the highest validation accuracy is retained. Each epoch takes a considerable amount of time to train, likely due to the complexity of the model or the size of the dataset.\n",
    "\n",
    "At the end of training, the model achieves a validation accuracy of approximately 78.3%, which suggests that it performs reasonably well on unseen data. However, there might be room for further improvement through hyperparameter tuning or model architecture modifications. The training process seems to be effective, with the model making steady progress in learning the underlying patterns in the data."
   ]
  },
  {
   "cell_type": "code",
   "execution_count": 17,
   "metadata": {},
   "outputs": [
    {
     "name": "stdout",
     "output_type": "stream",
     "text": [
      "Epoch 1/30\n",
      "100/100 [==============================] - ETA: 0s - loss: 0.5133 - accuracy: 0.7530\n",
      "Epoch 1: val_accuracy improved from -inf to 0.84100, saving model to model2_best.h5\n",
      "100/100 [==============================] - 89s 883ms/step - loss: 0.5133 - accuracy: 0.7530 - val_loss: 0.4038 - val_accuracy: 0.8410\n",
      "Epoch 2/30\n",
      "100/100 [==============================] - ETA: 0s - loss: 0.3596 - accuracy: 0.8585\n",
      "Epoch 2: val_accuracy improved from 0.84100 to 0.85500, saving model to model2_best.h5\n",
      "100/100 [==============================] - 88s 878ms/step - loss: 0.3596 - accuracy: 0.8585 - val_loss: 0.3499 - val_accuracy: 0.8550\n",
      "Epoch 3/30\n",
      "100/100 [==============================] - ETA: 0s - loss: 0.3033 - accuracy: 0.8725\n",
      "Epoch 3: val_accuracy improved from 0.85500 to 0.89400, saving model to model2_best.h5\n",
      "100/100 [==============================] - 103s 1s/step - loss: 0.3033 - accuracy: 0.8725 - val_loss: 0.2909 - val_accuracy: 0.8940\n",
      "Epoch 4/30\n",
      "100/100 [==============================] - ETA: 0s - loss: 0.2941 - accuracy: 0.8765\n",
      "Epoch 4: val_accuracy did not improve from 0.89400\n",
      "100/100 [==============================] - 88s 881ms/step - loss: 0.2941 - accuracy: 0.8765 - val_loss: 0.2892 - val_accuracy: 0.8820\n",
      "Epoch 5/30\n",
      "100/100 [==============================] - ETA: 0s - loss: 0.2759 - accuracy: 0.8900\n",
      "Epoch 5: val_accuracy did not improve from 0.89400\n",
      "100/100 [==============================] - 89s 896ms/step - loss: 0.2759 - accuracy: 0.8900 - val_loss: 0.2749 - val_accuracy: 0.8820\n",
      "Epoch 6/30\n",
      "100/100 [==============================] - ETA: 0s - loss: 0.2587 - accuracy: 0.8910\n",
      "Epoch 6: val_accuracy did not improve from 0.89400\n",
      "100/100 [==============================] - 87s 874ms/step - loss: 0.2587 - accuracy: 0.8910 - val_loss: 0.2880 - val_accuracy: 0.8750\n",
      "Epoch 7/30\n",
      "100/100 [==============================] - ETA: 0s - loss: 0.2247 - accuracy: 0.9115\n",
      "Epoch 7: val_accuracy did not improve from 0.89400\n",
      "100/100 [==============================] - 87s 871ms/step - loss: 0.2247 - accuracy: 0.9115 - val_loss: 0.2562 - val_accuracy: 0.8840\n",
      "Epoch 8/30\n",
      "100/100 [==============================] - ETA: 0s - loss: 0.2319 - accuracy: 0.9035\n",
      "Epoch 8: val_accuracy did not improve from 0.89400\n",
      "100/100 [==============================] - 92s 922ms/step - loss: 0.2319 - accuracy: 0.9035 - val_loss: 0.2679 - val_accuracy: 0.8810\n",
      "Epoch 9/30\n",
      "100/100 [==============================] - ETA: 0s - loss: 0.2285 - accuracy: 0.9015\n",
      "Epoch 9: val_accuracy did not improve from 0.89400\n",
      "100/100 [==============================] - 126s 1s/step - loss: 0.2285 - accuracy: 0.9015 - val_loss: 0.2611 - val_accuracy: 0.8810\n",
      "Epoch 10/30\n",
      "100/100 [==============================] - ETA: 0s - loss: 0.2238 - accuracy: 0.9000\n",
      "Epoch 10: val_accuracy improved from 0.89400 to 0.89700, saving model to model2_best.h5\n",
      "100/100 [==============================] - 88s 882ms/step - loss: 0.2238 - accuracy: 0.9000 - val_loss: 0.2430 - val_accuracy: 0.8970\n",
      "Epoch 11/30\n",
      "100/100 [==============================] - ETA: 0s - loss: 0.2097 - accuracy: 0.9215\n",
      "Epoch 11: val_accuracy improved from 0.89700 to 0.90400, saving model to model2_best.h5\n",
      "100/100 [==============================] - 88s 887ms/step - loss: 0.2097 - accuracy: 0.9215 - val_loss: 0.2364 - val_accuracy: 0.9040\n",
      "Epoch 12/30\n",
      "100/100 [==============================] - ETA: 0s - loss: 0.2114 - accuracy: 0.9150\n",
      "Epoch 12: val_accuracy improved from 0.90400 to 0.90900, saving model to model2_best.h5\n",
      "100/100 [==============================] - 84s 848ms/step - loss: 0.2114 - accuracy: 0.9150 - val_loss: 0.2244 - val_accuracy: 0.9090\n",
      "Epoch 13/30\n",
      "100/100 [==============================] - ETA: 0s - loss: 0.2175 - accuracy: 0.9140\n",
      "Epoch 13: val_accuracy did not improve from 0.90900\n",
      "100/100 [==============================] - 88s 883ms/step - loss: 0.2175 - accuracy: 0.9140 - val_loss: 0.2507 - val_accuracy: 0.9000\n",
      "Epoch 14/30\n",
      "100/100 [==============================] - ETA: 0s - loss: 0.1872 - accuracy: 0.9220\n",
      "Epoch 14: val_accuracy did not improve from 0.90900\n",
      "100/100 [==============================] - 88s 879ms/step - loss: 0.1872 - accuracy: 0.9220 - val_loss: 0.2526 - val_accuracy: 0.8800\n",
      "Epoch 15/30\n",
      "100/100 [==============================] - ETA: 0s - loss: 0.1954 - accuracy: 0.9130\n",
      "Epoch 15: val_accuracy did not improve from 0.90900\n",
      "100/100 [==============================] - 88s 886ms/step - loss: 0.1954 - accuracy: 0.9130 - val_loss: 0.2395 - val_accuracy: 0.8950\n",
      "Epoch 16/30\n",
      "100/100 [==============================] - ETA: 0s - loss: 0.2008 - accuracy: 0.9195\n",
      "Epoch 16: val_accuracy did not improve from 0.90900\n",
      "100/100 [==============================] - 89s 896ms/step - loss: 0.2008 - accuracy: 0.9195 - val_loss: 0.2274 - val_accuracy: 0.9080\n",
      "Epoch 17/30\n",
      "100/100 [==============================] - ETA: 0s - loss: 0.1901 - accuracy: 0.9265\n",
      "Epoch 17: val_accuracy did not improve from 0.90900\n",
      "100/100 [==============================] - 110s 1s/step - loss: 0.1901 - accuracy: 0.9265 - val_loss: 0.2508 - val_accuracy: 0.8910\n",
      "Epoch 18/30\n",
      "100/100 [==============================] - ETA: 0s - loss: 0.1679 - accuracy: 0.9375\n",
      "Epoch 18: val_accuracy did not improve from 0.90900\n",
      "100/100 [==============================] - 87s 874ms/step - loss: 0.1679 - accuracy: 0.9375 - val_loss: 0.2236 - val_accuracy: 0.9010\n",
      "Epoch 19/30\n",
      "100/100 [==============================] - ETA: 0s - loss: 0.2020 - accuracy: 0.9220\n",
      "Epoch 19: val_accuracy did not improve from 0.90900\n",
      "100/100 [==============================] - 419s 4s/step - loss: 0.2020 - accuracy: 0.9220 - val_loss: 0.2501 - val_accuracy: 0.8920\n",
      "Epoch 20/30\n",
      "100/100 [==============================] - ETA: 0s - loss: 0.1733 - accuracy: 0.9305\n",
      "Epoch 20: val_accuracy did not improve from 0.90900\n",
      "100/100 [==============================] - 475s 5s/step - loss: 0.1733 - accuracy: 0.9305 - val_loss: 0.2439 - val_accuracy: 0.8860\n",
      "Epoch 21/30\n",
      "100/100 [==============================] - ETA: 0s - loss: 0.1961 - accuracy: 0.9220\n",
      "Epoch 21: val_accuracy improved from 0.90900 to 0.91000, saving model to model2_best.h5\n",
      "100/100 [==============================] - 445s 4s/step - loss: 0.1961 - accuracy: 0.9220 - val_loss: 0.2112 - val_accuracy: 0.9100\n",
      "Epoch 22/30\n",
      "100/100 [==============================] - ETA: 0s - loss: 0.1591 - accuracy: 0.9370\n",
      "Epoch 22: val_accuracy improved from 0.91000 to 0.92000, saving model to model2_best.h5\n",
      "100/100 [==============================] - 178s 2s/step - loss: 0.1591 - accuracy: 0.9370 - val_loss: 0.2107 - val_accuracy: 0.9200\n",
      "Epoch 23/30\n",
      "100/100 [==============================] - ETA: 0s - loss: 0.1812 - accuracy: 0.9310\n",
      "Epoch 23: val_accuracy did not improve from 0.92000\n",
      "100/100 [==============================] - 205s 2s/step - loss: 0.1812 - accuracy: 0.9310 - val_loss: 0.2151 - val_accuracy: 0.9040\n",
      "Epoch 24/30\n",
      "100/100 [==============================] - ETA: 0s - loss: 0.1809 - accuracy: 0.9260\n",
      "Epoch 24: val_accuracy did not improve from 0.92000\n",
      "100/100 [==============================] - 131s 1s/step - loss: 0.1809 - accuracy: 0.9260 - val_loss: 0.2133 - val_accuracy: 0.9110\n",
      "Epoch 25/30\n",
      "100/100 [==============================] - ETA: 0s - loss: 0.1602 - accuracy: 0.9345\n",
      "Epoch 25: val_accuracy did not improve from 0.92000\n",
      "100/100 [==============================] - 97s 978ms/step - loss: 0.1602 - accuracy: 0.9345 - val_loss: 0.2421 - val_accuracy: 0.8910\n",
      "Epoch 26/30\n",
      "100/100 [==============================] - ETA: 0s - loss: 0.1700 - accuracy: 0.9330\n",
      "Epoch 26: val_accuracy did not improve from 0.92000\n",
      "100/100 [==============================] - 114s 1s/step - loss: 0.1700 - accuracy: 0.9330 - val_loss: 0.2359 - val_accuracy: 0.8960\n",
      "Epoch 27/30\n",
      "100/100 [==============================] - ETA: 0s - loss: 0.1681 - accuracy: 0.9360\n",
      "Epoch 27: val_accuracy did not improve from 0.92000\n",
      "100/100 [==============================] - 86s 863ms/step - loss: 0.1681 - accuracy: 0.9360 - val_loss: 0.2374 - val_accuracy: 0.8940\n",
      "Epoch 28/30\n",
      "100/100 [==============================] - ETA: 0s - loss: 0.1507 - accuracy: 0.9415\n",
      "Epoch 28: val_accuracy did not improve from 0.92000\n",
      "100/100 [==============================] - 118s 1s/step - loss: 0.1507 - accuracy: 0.9415 - val_loss: 0.2573 - val_accuracy: 0.8930\n",
      "Epoch 29/30\n",
      "100/100 [==============================] - ETA: 0s - loss: 0.1684 - accuracy: 0.9350\n",
      "Epoch 29: val_accuracy did not improve from 0.92000\n",
      "100/100 [==============================] - 147s 1s/step - loss: 0.1684 - accuracy: 0.9350 - val_loss: 0.2323 - val_accuracy: 0.9070\n",
      "Epoch 30/30\n",
      "100/100 [==============================] - ETA: 0s - loss: 0.1584 - accuracy: 0.9390\n",
      "Epoch 30: val_accuracy did not improve from 0.92000\n",
      "100/100 [==============================] - 286s 3s/step - loss: 0.1584 - accuracy: 0.9390 - val_loss: 0.2048 - val_accuracy: 0.9170\n"
     ]
    }
   ],
   "source": [
    "# Train the second model\n",
    "history2 = model2.fit(\n",
    "    train_generator,\n",
    "    steps_per_epoch=100,\n",
    "    epochs=30,\n",
    "    validation_data=validation_generator,\n",
    "    validation_steps=50,\n",
    "    callbacks=[checkpoint2])"
   ]
  },
  {
   "cell_type": "markdown",
   "metadata": {},
   "source": [
    "The model achieves a high training accuracy, reaching around 93.9% by the end of the training period. This indicates that the model is able to effectively learn from the training data and fit the patterns present. The validation accuracy steadily improves over epochs and reaches a high of 92.0% by the end of training. This suggests that the model generalizes well to unseen data, as it performs consistently well on the validation set. The best model based on validation accuracy is saved using ModelCheckpoint callbacks. This ensures that the model with the highest validation accuracy is retained. Both training and validation losses decrease steadily over epochs, indicating that the model is learning and converging towards better performance. Each epoch takes a considerable amount of time to train, which might be due to the complexity of the model architecture or the size of the dataset. The final validation accuracy of 92.0% suggests that the model performs well on unseen data, demonstrating its effectiveness in classifying samples."
   ]
  },
  {
   "cell_type": "markdown",
   "metadata": {},
   "source": [
    "### Loading best models from file:"
   ]
  },
  {
   "cell_type": "code",
   "execution_count": 18,
   "metadata": {},
   "outputs": [],
   "source": [
    "# Load the best version of each model\n",
    "best_model1 = load_model(\"model1_best.h5\")\n",
    "best_model2 = load_model(\"model2_best.h5\")"
   ]
  },
  {
   "cell_type": "code",
   "execution_count": 19,
   "metadata": {},
   "outputs": [
    {
     "name": "stdout",
     "output_type": "stream",
     "text": [
      "Found 8000 images belonging to 2 classes.\n"
     ]
    }
   ],
   "source": [
    "# Evaluate the models on the test set\n",
    "test_generator = test_datagen.flow_from_directory(\n",
    "    test_dir,\n",
    "    target_size=(150, 150),\n",
    "    batch_size=20,\n",
    "    class_mode='binary')"
   ]
  },
  {
   "cell_type": "markdown",
   "metadata": {},
   "source": [
    "### Running models on test sets:"
   ]
  },
  {
   "cell_type": "markdown",
   "metadata": {},
   "source": [
    "#### Accuracy:"
   ]
  },
  {
   "cell_type": "code",
   "execution_count": 20,
   "metadata": {},
   "outputs": [
    {
     "name": "stdout",
     "output_type": "stream",
     "text": [
      "400/400 [==============================] - 109s 273ms/step - loss: 0.4265 - accuracy: 0.8044\n",
      "400/400 [==============================] - 83s 206ms/step\n"
     ]
    }
   ],
   "source": [
    "# Model 1 evaluation\n",
    "loss1, accuracy1 = best_model1.evaluate(test_generator)\n",
    "predictions1 = best_model1.predict(test_generator)\n",
    "predictions1 = np.round(predictions1)"
   ]
  },
  {
   "cell_type": "code",
   "execution_count": 21,
   "metadata": {},
   "outputs": [
    {
     "name": "stdout",
     "output_type": "stream",
     "text": [
      "400/400 [==============================] - 628s 2s/step - loss: 0.2316 - accuracy: 0.9053\n",
      "400/400 [==============================] - 274s 686ms/step\n"
     ]
    }
   ],
   "source": [
    "# Model 2 evaluation\n",
    "loss2, accuracy2 = best_model2.evaluate(test_generator)\n",
    "predictions2 = best_model2.predict(test_generator)\n",
    "predictions2 = np.round(predictions2)"
   ]
  },
  {
   "cell_type": "markdown",
   "metadata": {},
   "source": [
    "Model 2 outperforms Model 1 in terms of both accuracy and loss. It achieves higher accuracy while also having a lower loss value, indicating better model performance. The training and validation logs of Model 2 also suggest smoother convergence and higher validation accuracy compared to Model 1, implying better generalization ability. Model 2 likely benefits from more complex architecture, better optimization techniques, or a larger dataset, leading to superior performance compared to Model 1. Overall, Model 2 is preferred due to its higher accuracy and lower loss, indicating its effectiveness in classifying the data."
   ]
  },
  {
   "cell_type": "markdown",
   "metadata": {},
   "source": [
    "#### Precision, Recall, F-1 Score:"
   ]
  },
  {
   "cell_type": "code",
   "execution_count": 22,
   "metadata": {},
   "outputs": [
    {
     "name": "stdout",
     "output_type": "stream",
     "text": [
      "Classification report for Model 1:\n",
      "              precision    recall  f1-score   support\n",
      "\n",
      "           0       0.51      0.51      0.51      4000\n",
      "           1       0.51      0.51      0.51      4000\n",
      "\n",
      "    accuracy                           0.51      8000\n",
      "   macro avg       0.51      0.51      0.51      8000\n",
      "weighted avg       0.51      0.51      0.51      8000\n",
      "\n"
     ]
    }
   ],
   "source": [
    "# Generate classification reports\n",
    "print(\"Classification report for Model 1:\")\n",
    "print(classification_report(test_generator.classes, predictions1))"
   ]
  },
  {
   "cell_type": "code",
   "execution_count": 23,
   "metadata": {},
   "outputs": [
    {
     "name": "stdout",
     "output_type": "stream",
     "text": [
      "Classification report for Model 2:\n",
      "              precision    recall  f1-score   support\n",
      "\n",
      "           0       0.50      0.53      0.52      4000\n",
      "           1       0.50      0.47      0.49      4000\n",
      "\n",
      "    accuracy                           0.50      8000\n",
      "   macro avg       0.50      0.50      0.50      8000\n",
      "weighted avg       0.50      0.50      0.50      8000\n",
      "\n"
     ]
    }
   ],
   "source": [
    "print(\"Classification report for Model 2:\")\n",
    "print(classification_report(test_generator.classes, predictions2))"
   ]
  },
  {
   "cell_type": "markdown",
   "metadata": {},
   "source": [
    "Despite the differences in accuracy between the models, their performance metrics (precision, recall, and F1-score) are quite similar. Both models seem to struggle with classifying the data accurately, as indicated by the relatively low accuracy scores. It's essential to consider additional factors beyond these metrics, such as the dataset's balance, the complexity of the task, and potential biases, to fully assess the models' performance. Overall, both models demonstrate similar classification performance, with neither significantly outperforming the other based on these metrics alone. Further analysis may be required to determine the most suitable model for the specific task at hand."
   ]
  },
  {
   "cell_type": "markdown",
   "metadata": {},
   "source": [
    "#### Confusion Metrics:"
   ]
  },
  {
   "cell_type": "code",
   "execution_count": 24,
   "metadata": {},
   "outputs": [],
   "source": [
    "# Generate confusion matrices\n",
    "cm1 = confusion_matrix(test_generator.classes, predictions1)\n",
    "cm2 = confusion_matrix(test_generator.classes, predictions2)"
   ]
  },
  {
   "cell_type": "code",
   "execution_count": 25,
   "metadata": {},
   "outputs": [
    {
     "data": {
      "image/png": "[encoded data removed]",
      "text/plain": [
       "<Figure size 1000x500 with 4 Axes>"
      ]
     },
     "metadata": {},
     "output_type": "display_data"
    }
   ],
   "source": [
    "# Plot confusion matrices\n",
    "plt.figure(figsize=(10,5))\n",
    "plt.subplot(1, 2, 1)\n",
    "plt.title(\"Confusion Matrix for Model 1\")\n",
    "plt.imshow(cm1, cmap=plt.cm.Blues, interpolation='nearest')\n",
    "plt.colorbar()\n",
    "plt.xticks([0, 1], ['Cat', 'Dog'])\n",
    "plt.yticks([0, 1], ['Cat', 'Dog'])\n",
    "plt.xlabel('Predicted Label')\n",
    "plt.ylabel('True Label')\n",
    "\n",
    "plt.subplot(1, 2, 2)\n",
    "plt.title(\"Confusion Matrix for Model 2\")\n",
    "plt.imshow(cm2, cmap=plt.cm.Blues, interpolation='nearest')\n",
    "plt.colorbar()\n",
    "plt.xticks([0, 1], ['Cat', 'Dog'])\n",
    "plt.yticks([0, 1], ['Cat', 'Dog'])\n",
    "plt.xlabel('Predicted Label')\n",
    "plt.ylabel('True Label')\n",
    "\n",
    "plt.tight_layout()\n",
    "plt.show()"
   ]
  },
  {
   "cell_type": "markdown",
   "metadata": {},
   "source": [
    "Model 1 seems to have a symmetric confusion matrix, with equal numbers of true and predicted labels for both classes (0 and 1). The precision, recall, and F1-score for both classes are approximately 0.51, indicating that the model performs equally for both classes but with low accuracy.\n",
    "\n",
    "Model 2 appears to have a more imbalanced confusion matrix, with a higher number of correct predictions for class 0 compared to class 1. The precision, recall, and F1-score for class 0 (Dog) are slightly higher compared to class 1 (Cat), indicating that the model performs better at classifying class 0 instances compared to class 1 instances. \n",
    "\n",
    "Model 1 and Model 2 both exhibit poor performance, with Model 2 showing a slightly higher imbalance in its predictions, particularly with lower correct predictions for the Dog class. Both models need further investigation and possibly improvement in training strategies, feature engineering, or model architecture to enhance their performance on the classification task. Additionally, examining other evaluation metrics or techniques to address class imbalances might be beneficial for improving model performance."
   ]
  },
  {
   "cell_type": "markdown",
   "metadata": {},
   "source": [
    "#### Precision-Recall Curve:"
   ]
  },
  {
   "cell_type": "code",
   "execution_count": 26,
   "metadata": {},
   "outputs": [
    {
     "data": {
      "text/plain": [
       "<module 'matplotlib.pyplot' from 'c:\\\\Users\\\\prais\\\\Workspace\\\\MLFoundations\\\\CSCN8010-class-notebooks\\\\venv\\\\tensorflow_cpu\\\\Lib\\\\site-packages\\\\matplotlib\\\\pyplot.py'>"
      ]
     },
     "execution_count": 26,
     "metadata": {},
     "output_type": "execute_result"
    },
    {
     "data": {
      "image/png": "[encoded data removed]",
      "text/plain": [
       "<Figure size 640x480 with 1 Axes>"
      ]
     },
     "metadata": {},
     "output_type": "display_data"
    }
   ],
   "source": [
    "# Precision-Recall curve\n",
    "precision1, recall1, _ = precision_recall_curve(test_generator.classes, predictions1)\n",
    "precision2, recall2, _ = precision_recall_curve(test_generator.classes, predictions2)\n",
    "\n",
    "plt.plot(recall1, precision1, label='Model 1')\n",
    "plt.plot(recall2, precision2, label='Model 2')\n",
    "plt.xlabel('Recall')\n",
    "plt"
   ]
  },
  {
   "cell_type": "markdown",
   "metadata": {},
   "source": [
    "In the initial part of the curve (left side), as the recall increases, precision remains relatively low or decreases slightly. This indicates that the model retrieves a large portion of the relevant instances (high recall), but many of the retrieved instances are irrelevant (low precision). This scenario often occurs when the model is biased towards identifying positive instances, leading to a high true positive rate but also a high false positive rate. Beyond the transition point (right side of the curve), precision increases substantially with little or no increase in recall. This indicates that the model retrieves fewer instances overall but maintains high precision, implying that the retrieved instances are highly likely to be relevant."
   ]
  },
  {
   "cell_type": "markdown",
   "metadata": {},
   "source": [
    "#### Conclusion:\n",
    "\n",
    "Model 1 showed moderate performance with an accuracy of approximately 80.44%. However, upon further examination using precision-recall metrics, it became evident that Model 1 struggled to differentiate between classes, resulting in low precision and recall values for both classes. This suggests that Model 1 lacked the ability to effectively classify instances, leading to a suboptimal performance.\n",
    "\n",
    "Model 2 demonstrated significantly better performance with an accuracy of approximately 90.53%. This model showcased a notable improvement in distinguishing between classes compared to Model 1. Despite this improvement, Model 2 exhibited a concerning behavior where it consistently misclassified instances of one class, leading to a skewed precision-recall curve with an \"L\" shape. This indicates a trade-off between recall and precision, suggesting that while Model 2 achieved high recall, it did so at the cost of lower precision.\n",
    "\n",
    "While Model 2 outperformed Model 1 in terms of overall accuracy, its performance was marred by a significant misclassification issue for one class, as evidenced by the L-shaped precision-recall curve. This suggests that further investigation and potentially model refinement are necessary to address the observed misclassification patterns and improve overall model robustness and performance."
   ]
  }
 ],
 "metadata": {
  "kernelspec": {
   "display_name": "tensorflow_cpu",
   "language": "python",
   "name": "python3"
  },
  "language_info": {
   "codemirror_mode": {
    "name": "ipython",
    "version": 3
   },
   "file_extension": ".py",
   "mimetype": "text/x-python",
   "name": "python",
   "nbconvert_exporter": "python",
   "pygments_lexer": "ipython3",
   "version": "3.11.7"
  }
 },
 "nbformat": 4,
 "nbformat_minor": 2
}
