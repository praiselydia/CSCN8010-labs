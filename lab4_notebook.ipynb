{
 "cells": [
  {
   "cell_type": "markdown",
   "metadata": {},
   "source": [
    "# Model to predict diabetes progression based on patient BMI\n",
    "\n",
    "The model is trained on scikit learn's toy dataset for diabetes progression. Based on the data recorded from each patient and the actual diabetes level recorded for the same patients after a year from baseline, the model can be used to predict and verify the model accuracy. We are going to split the data into training data, validation data and test data for the purpose."
   ]
  },
  {
   "cell_type": "code",
   "execution_count": 1,
   "metadata": {},
   "outputs": [],
   "source": [
    "# Import required libraries \n",
    "\n",
    "import numpy as np\n",
    "import pandas as pd\n",
    "from sklearn import datasets\n",
    "from sklearn.model_selection import train_test_split\n",
    "from sklearn.preprocessing import PolynomialFeatures\n",
    "from sklearn.linear_model import LinearRegression\n",
    "from sklearn.metrics import r2_score, mean_absolute_percentage_error, mean_absolute_error, mean_squared_error\n",
    "import matplotlib.pyplot as plt"
   ]
  },
  {
   "cell_type": "markdown",
   "metadata": {},
   "source": [
    "### 1. LOADING THE DATASET\n",
    "\n",
    "The values in the dataset have been scaled by standard deviation times the square root of n_samples (i.e. the sum of squares of each column totals 1) and mean centered. To understand the data better, we're going to plot and explore on non-scaled data by setting scaled=False."
   ]
  },
  {
   "cell_type": "code",
   "execution_count": 2,
   "metadata": {},
   "outputs": [],
   "source": [
    "diabetes_ds = datasets.load_diabetes(return_X_y=False, as_frame=False, scaled=False)\n",
    "X = diabetes_ds.data[:, np.newaxis, 2]\n",
    "y = diabetes_ds.target"
   ]
  },
  {
   "cell_type": "markdown",
   "metadata": {},
   "source": [
    "The dataset consists records of 442 patients. \n",
    "\n",
    "The 'data' in the dataset consists of entries of the following columns -\n",
    "\n",
    "1. age \n",
    "2. sex\n",
    "3. bmi\n",
    "4. bp\n",
    "5. s1(tc) total serum cholesterol\n",
    "6. s2 (ldl) low-density lipoproteins\n",
    "7. s3(hdl) high-density lipoproteins\n",
    "8. s4(tch) total cholesterol / HDL\n",
    "9. s5(ltg) possibly log of serum triglycerides level\n",
    "10. s6(glu) blood sugar level\n",
    "\n",
    "The 'target' data has the record of diabetes progressed in the patients after a year."
   ]
  },
  {
   "cell_type": "code",
   "execution_count": 3,
   "metadata": {},
   "outputs": [
    {
     "data": {
      "text/html": [
       "<div>\n",
       "<style scoped>\n",
       "    .dataframe tbody tr th:only-of-type {\n",
       "        vertical-align: middle;\n",
       "    }\n",
       "\n",
       "    .dataframe tbody tr th {\n",
       "        vertical-align: top;\n",
       "    }\n",
       "\n",
       "    .dataframe thead th {\n",
       "        text-align: right;\n",
       "    }\n",
       "</style>\n",
       "<table border=\"1\" class=\"dataframe\">\n",
       "  <thead>\n",
       "    <tr style=\"text-align: right;\">\n",
       "      <th></th>\n",
       "      <th>age</th>\n",
       "      <th>sex</th>\n",
       "      <th>bmi</th>\n",
       "      <th>bp</th>\n",
       "      <th>s1</th>\n",
       "      <th>s2</th>\n",
       "      <th>s3</th>\n",
       "      <th>s4</th>\n",
       "      <th>s5</th>\n",
       "      <th>s6</th>\n",
       "    </tr>\n",
       "  </thead>\n",
       "  <tbody>\n",
       "    <tr>\n",
       "      <th>0</th>\n",
       "      <td>59.0</td>\n",
       "      <td>2.0</td>\n",
       "      <td>32.1</td>\n",
       "      <td>101.0</td>\n",
       "      <td>157.0</td>\n",
       "      <td>93.2</td>\n",
       "      <td>38.0</td>\n",
       "      <td>4.0</td>\n",
       "      <td>4.8598</td>\n",
       "      <td>87.0</td>\n",
       "    </tr>\n",
       "    <tr>\n",
       "      <th>1</th>\n",
       "      <td>48.0</td>\n",
       "      <td>1.0</td>\n",
       "      <td>21.6</td>\n",
       "      <td>87.0</td>\n",
       "      <td>183.0</td>\n",
       "      <td>103.2</td>\n",
       "      <td>70.0</td>\n",
       "      <td>3.0</td>\n",
       "      <td>3.8918</td>\n",
       "      <td>69.0</td>\n",
       "    </tr>\n",
       "    <tr>\n",
       "      <th>2</th>\n",
       "      <td>72.0</td>\n",
       "      <td>2.0</td>\n",
       "      <td>30.5</td>\n",
       "      <td>93.0</td>\n",
       "      <td>156.0</td>\n",
       "      <td>93.6</td>\n",
       "      <td>41.0</td>\n",
       "      <td>4.0</td>\n",
       "      <td>4.6728</td>\n",
       "      <td>85.0</td>\n",
       "    </tr>\n",
       "    <tr>\n",
       "      <th>3</th>\n",
       "      <td>24.0</td>\n",
       "      <td>1.0</td>\n",
       "      <td>25.3</td>\n",
       "      <td>84.0</td>\n",
       "      <td>198.0</td>\n",
       "      <td>131.4</td>\n",
       "      <td>40.0</td>\n",
       "      <td>5.0</td>\n",
       "      <td>4.8903</td>\n",
       "      <td>89.0</td>\n",
       "    </tr>\n",
       "    <tr>\n",
       "      <th>4</th>\n",
       "      <td>50.0</td>\n",
       "      <td>1.0</td>\n",
       "      <td>23.0</td>\n",
       "      <td>101.0</td>\n",
       "      <td>192.0</td>\n",
       "      <td>125.4</td>\n",
       "      <td>52.0</td>\n",
       "      <td>4.0</td>\n",
       "      <td>4.2905</td>\n",
       "      <td>80.0</td>\n",
       "    </tr>\n",
       "  </tbody>\n",
       "</table>\n",
       "</div>"
      ],
      "text/plain": [
       "    age  sex   bmi     bp     s1     s2    s3   s4      s5    s6\n",
       "0  59.0  2.0  32.1  101.0  157.0   93.2  38.0  4.0  4.8598  87.0\n",
       "1  48.0  1.0  21.6   87.0  183.0  103.2  70.0  3.0  3.8918  69.0\n",
       "2  72.0  2.0  30.5   93.0  156.0   93.6  41.0  4.0  4.6728  85.0\n",
       "3  24.0  1.0  25.3   84.0  198.0  131.4  40.0  5.0  4.8903  89.0\n",
       "4  50.0  1.0  23.0  101.0  192.0  125.4  52.0  4.0  4.2905  80.0"
      ]
     },
     "execution_count": 3,
     "metadata": {},
     "output_type": "execute_result"
    }
   ],
   "source": [
    "patients_df = pd.DataFrame(diabetes_ds.data, columns=diabetes_ds.feature_names)\n",
    "patients_df.head(5)"
   ]
  },
  {
   "cell_type": "code",
   "execution_count": 4,
   "metadata": {},
   "outputs": [
    {
     "data": {
      "text/html": [
       "<div>\n",
       "<style scoped>\n",
       "    .dataframe tbody tr th:only-of-type {\n",
       "        vertical-align: middle;\n",
       "    }\n",
       "\n",
       "    .dataframe tbody tr th {\n",
       "        vertical-align: top;\n",
       "    }\n",
       "\n",
       "    .dataframe thead th {\n",
       "        text-align: right;\n",
       "    }\n",
       "</style>\n",
       "<table border=\"1\" class=\"dataframe\">\n",
       "  <thead>\n",
       "    <tr style=\"text-align: right;\">\n",
       "      <th></th>\n",
       "      <th>0</th>\n",
       "    </tr>\n",
       "  </thead>\n",
       "  <tbody>\n",
       "    <tr>\n",
       "      <th>0</th>\n",
       "      <td>151.0</td>\n",
       "    </tr>\n",
       "    <tr>\n",
       "      <th>1</th>\n",
       "      <td>75.0</td>\n",
       "    </tr>\n",
       "    <tr>\n",
       "      <th>2</th>\n",
       "      <td>141.0</td>\n",
       "    </tr>\n",
       "    <tr>\n",
       "      <th>3</th>\n",
       "      <td>206.0</td>\n",
       "    </tr>\n",
       "    <tr>\n",
       "      <th>4</th>\n",
       "      <td>135.0</td>\n",
       "    </tr>\n",
       "  </tbody>\n",
       "</table>\n",
       "</div>"
      ],
      "text/plain": [
       "       0\n",
       "0  151.0\n",
       "1   75.0\n",
       "2  141.0\n",
       "3  206.0\n",
       "4  135.0"
      ]
     },
     "execution_count": 4,
     "metadata": {},
     "output_type": "execute_result"
    }
   ],
   "source": [
    "target_df = pd.DataFrame(diabetes_ds.target)\n",
    "target_df.head(5)"
   ]
  },
  {
   "cell_type": "markdown",
   "metadata": {},
   "source": [
    "### 2. FRAMING THE MODEL\n",
    "\n",
    "The model we're going to run will have patient BMI in X axis and the predicted diabetes result in Y axis. The models will have only one feature for running polynomial regression, which is BMI. We are going to run polynomial regression of degree 0 to 5 and compare all 6 models to check which model performs the best. With the best model, we will manually verify accuracy. \n",
    "\n",
    "To do this, we will first perform analysis of the data by exploring statistics with histogram and correlation matrix."
   ]
  },
  {
   "cell_type": "markdown",
   "metadata": {},
   "source": [
    "### 3. EXPLORATORY DATA ANALYSIS"
   ]
  },
  {
   "cell_type": "code",
   "execution_count": 5,
   "metadata": {},
   "outputs": [
    {
     "data": {
      "text/html": [
       "<div>\n",
       "<style scoped>\n",
       "    .dataframe tbody tr th:only-of-type {\n",
       "        vertical-align: middle;\n",
       "    }\n",
       "\n",
       "    .dataframe tbody tr th {\n",
       "        vertical-align: top;\n",
       "    }\n",
       "\n",
       "    .dataframe thead th {\n",
       "        text-align: right;\n",
       "    }\n",
       "</style>\n",
       "<table border=\"1\" class=\"dataframe\">\n",
       "  <thead>\n",
       "    <tr style=\"text-align: right;\">\n",
       "      <th></th>\n",
       "      <th>age</th>\n",
       "      <th>sex</th>\n",
       "      <th>bmi</th>\n",
       "      <th>bp</th>\n",
       "      <th>s1</th>\n",
       "      <th>s2</th>\n",
       "      <th>s3</th>\n",
       "      <th>s4</th>\n",
       "      <th>s5</th>\n",
       "      <th>s6</th>\n",
       "    </tr>\n",
       "  </thead>\n",
       "  <tbody>\n",
       "    <tr>\n",
       "      <th>count</th>\n",
       "      <td>442.000000</td>\n",
       "      <td>442.000000</td>\n",
       "      <td>442.000000</td>\n",
       "      <td>442.000000</td>\n",
       "      <td>442.000000</td>\n",
       "      <td>442.000000</td>\n",
       "      <td>442.000000</td>\n",
       "      <td>442.000000</td>\n",
       "      <td>442.000000</td>\n",
       "      <td>442.000000</td>\n",
       "    </tr>\n",
       "    <tr>\n",
       "      <th>mean</th>\n",
       "      <td>48.518100</td>\n",
       "      <td>1.468326</td>\n",
       "      <td>26.375792</td>\n",
       "      <td>94.647014</td>\n",
       "      <td>189.140271</td>\n",
       "      <td>115.439140</td>\n",
       "      <td>49.788462</td>\n",
       "      <td>4.070249</td>\n",
       "      <td>4.641411</td>\n",
       "      <td>91.260181</td>\n",
       "    </tr>\n",
       "    <tr>\n",
       "      <th>std</th>\n",
       "      <td>13.109028</td>\n",
       "      <td>0.499561</td>\n",
       "      <td>4.418122</td>\n",
       "      <td>13.831283</td>\n",
       "      <td>34.608052</td>\n",
       "      <td>30.413081</td>\n",
       "      <td>12.934202</td>\n",
       "      <td>1.290450</td>\n",
       "      <td>0.522391</td>\n",
       "      <td>11.496335</td>\n",
       "    </tr>\n",
       "    <tr>\n",
       "      <th>min</th>\n",
       "      <td>19.000000</td>\n",
       "      <td>1.000000</td>\n",
       "      <td>18.000000</td>\n",
       "      <td>62.000000</td>\n",
       "      <td>97.000000</td>\n",
       "      <td>41.600000</td>\n",
       "      <td>22.000000</td>\n",
       "      <td>2.000000</td>\n",
       "      <td>3.258100</td>\n",
       "      <td>58.000000</td>\n",
       "    </tr>\n",
       "    <tr>\n",
       "      <th>25%</th>\n",
       "      <td>38.250000</td>\n",
       "      <td>1.000000</td>\n",
       "      <td>23.200000</td>\n",
       "      <td>84.000000</td>\n",
       "      <td>164.250000</td>\n",
       "      <td>96.050000</td>\n",
       "      <td>40.250000</td>\n",
       "      <td>3.000000</td>\n",
       "      <td>4.276700</td>\n",
       "      <td>83.250000</td>\n",
       "    </tr>\n",
       "    <tr>\n",
       "      <th>50%</th>\n",
       "      <td>50.000000</td>\n",
       "      <td>1.000000</td>\n",
       "      <td>25.700000</td>\n",
       "      <td>93.000000</td>\n",
       "      <td>186.000000</td>\n",
       "      <td>113.000000</td>\n",
       "      <td>48.000000</td>\n",
       "      <td>4.000000</td>\n",
       "      <td>4.620050</td>\n",
       "      <td>91.000000</td>\n",
       "    </tr>\n",
       "    <tr>\n",
       "      <th>75%</th>\n",
       "      <td>59.000000</td>\n",
       "      <td>2.000000</td>\n",
       "      <td>29.275000</td>\n",
       "      <td>105.000000</td>\n",
       "      <td>209.750000</td>\n",
       "      <td>134.500000</td>\n",
       "      <td>57.750000</td>\n",
       "      <td>5.000000</td>\n",
       "      <td>4.997200</td>\n",
       "      <td>98.000000</td>\n",
       "    </tr>\n",
       "    <tr>\n",
       "      <th>max</th>\n",
       "      <td>79.000000</td>\n",
       "      <td>2.000000</td>\n",
       "      <td>42.200000</td>\n",
       "      <td>133.000000</td>\n",
       "      <td>301.000000</td>\n",
       "      <td>242.400000</td>\n",
       "      <td>99.000000</td>\n",
       "      <td>9.090000</td>\n",
       "      <td>6.107000</td>\n",
       "      <td>124.000000</td>\n",
       "    </tr>\n",
       "  </tbody>\n",
       "</table>\n",
       "</div>"
      ],
      "text/plain": [
       "              age         sex         bmi          bp          s1          s2   \n",
       "count  442.000000  442.000000  442.000000  442.000000  442.000000  442.000000  \\\n",
       "mean    48.518100    1.468326   26.375792   94.647014  189.140271  115.439140   \n",
       "std     13.109028    0.499561    4.418122   13.831283   34.608052   30.413081   \n",
       "min     19.000000    1.000000   18.000000   62.000000   97.000000   41.600000   \n",
       "25%     38.250000    1.000000   23.200000   84.000000  164.250000   96.050000   \n",
       "50%     50.000000    1.000000   25.700000   93.000000  186.000000  113.000000   \n",
       "75%     59.000000    2.000000   29.275000  105.000000  209.750000  134.500000   \n",
       "max     79.000000    2.000000   42.200000  133.000000  301.000000  242.400000   \n",
       "\n",
       "               s3          s4          s5          s6  \n",
       "count  442.000000  442.000000  442.000000  442.000000  \n",
       "mean    49.788462    4.070249    4.641411   91.260181  \n",
       "std     12.934202    1.290450    0.522391   11.496335  \n",
       "min     22.000000    2.000000    3.258100   58.000000  \n",
       "25%     40.250000    3.000000    4.276700   83.250000  \n",
       "50%     48.000000    4.000000    4.620050   91.000000  \n",
       "75%     57.750000    5.000000    4.997200   98.000000  \n",
       "max     99.000000    9.090000    6.107000  124.000000  "
      ]
     },
     "execution_count": 5,
     "metadata": {},
     "output_type": "execute_result"
    }
   ],
   "source": [
    "patients_df.describe()"
   ]
  },
  {
   "cell_type": "markdown",
   "metadata": {},
   "source": [
    "From the description of the dataset, we can infer that the patients were between the age 19 and 79 and the BMI range lies between 18 and 42. So the data does not concentrate on a specific group of age group or sex or bmi. With the varying data source, we can train a good prediction model. The data already shows **s6** glucose level of patients where the maximum was only 124. So the data source is a group of people with normal glucose range in the beginning which makes it fit to predict the progression."
   ]
  },
  {
   "cell_type": "code",
   "execution_count": 6,
   "metadata": {},
   "outputs": [
    {
     "data": {
      "image/png": "[encoded data removed]",
      "text/plain": [
       "<Figure size 640x480 with 1 Axes>"
      ]
     },
     "metadata": {},
     "output_type": "display_data"
    }
   ],
   "source": [
    "plt.hist(X, color=\"purple\")\n",
    "plt.xlabel('BMI')\n",
    "plt.ylabel('Frequency')\n",
    "plt.title('Histogram of BMI frequency')\n",
    "plt.show()"
   ]
  },
  {
   "cell_type": "markdown",
   "metadata": {},
   "source": [
    "According to the histogram that shows frequency of BMI in the given dataset, majority of the patients had BMI within the range of 21 to 32. Only above 50 people had BMI around 20. The number of people with BMI greater than 32 were collectively around 35."
   ]
  },
  {
   "cell_type": "code",
   "execution_count": 7,
   "metadata": {},
   "outputs": [
    {
     "name": "stdout",
     "output_type": "stream",
     "text": [
      "          age       sex       bmi        bp        s1        s2        s3   \n",
      "age  1.000000  0.173737  0.185085  0.335428  0.260061  0.219243 -0.075181  \\\n",
      "sex  0.173737  1.000000  0.088161  0.241010  0.035277  0.142637 -0.379090   \n",
      "bmi  0.185085  0.088161  1.000000  0.395411  0.249777  0.261170 -0.366811   \n",
      "bp   0.335428  0.241010  0.395411  1.000000  0.242464  0.185548 -0.178762   \n",
      "s1   0.260061  0.035277  0.249777  0.242464  1.000000  0.896663  0.051519   \n",
      "s2   0.219243  0.142637  0.261170  0.185548  0.896663  1.000000 -0.196455   \n",
      "s3  -0.075181 -0.379090 -0.366811 -0.178762  0.051519 -0.196455  1.000000   \n",
      "s4   0.203841  0.332115  0.413807  0.257650  0.542207  0.659817 -0.738493   \n",
      "s5   0.270774  0.149916  0.446157  0.393480  0.515503  0.318357 -0.398577   \n",
      "s6   0.301731  0.208133  0.388680  0.390430  0.325717  0.290600 -0.273697   \n",
      "\n",
      "           s4        s5        s6  \n",
      "age  0.203841  0.270774  0.301731  \n",
      "sex  0.332115  0.149916  0.208133  \n",
      "bmi  0.413807  0.446157  0.388680  \n",
      "bp   0.257650  0.393480  0.390430  \n",
      "s1   0.542207  0.515503  0.325717  \n",
      "s2   0.659817  0.318357  0.290600  \n",
      "s3  -0.738493 -0.398577 -0.273697  \n",
      "s4   1.000000  0.617859  0.417212  \n",
      "s5   0.617859  1.000000  0.464669  \n",
      "s6   0.417212  0.464669  1.000000  \n"
     ]
    }
   ],
   "source": [
    "correlation_matrix = patients_df.corr()\n",
    "print(correlation_matrix)"
   ]
  },
  {
   "cell_type": "markdown",
   "metadata": {},
   "source": [
    "The correlation matrix shows the relationship of each column with other columns in the dataset. The related columns involved in this prediction model is the bmi and glucose level. Even though the value is small, it shows a positive correlation of 0.388680. Which means as bmi goes higher, elevated glucose level is observed."
   ]
  },
  {
   "cell_type": "markdown",
   "metadata": {},
   "source": [
    "### 4. DATA CLEANING\n",
    "\n",
    "If any constraint was to be considered, ex: gender of the patient, age group, we could do data cleaning here. Since there isn't any invalid entries in the dataset and no missing values, there is no need for data cleaning."
   ]
  },
  {
   "cell_type": "markdown",
   "metadata": {},
   "source": [
    "### 5. SPLITTING OF TRAINING, VALIDATION AND TEST DATA"
   ]
  },
  {
   "cell_type": "code",
   "execution_count": 8,
   "metadata": {},
   "outputs": [],
   "source": [
    "# Splitting using Scikit-learn model_selection module's train_test_split() function\n",
    "\n",
    "# 30 % of the data used for validation+test and 70% is used for training\n",
    "X_train, X_valtest, y_train, y_valtest = train_test_split(X, y, test_size=0.3, random_state=42)\n",
    "\n",
    "# Within the 30%, 15% is used for validation and 50% is used for testing\n",
    "X_val, X_test, y_val, y_test = train_test_split(X_valtest, y_valtest, test_size=0.5, random_state=42)"
   ]
  },
  {
   "cell_type": "markdown",
   "metadata": {},
   "source": [
    "### 6. POLYNOMIAL REGREESION (DEGREE 0 TO 5)"
   ]
  },
  {
   "cell_type": "code",
   "execution_count": 9,
   "metadata": {},
   "outputs": [],
   "source": [
    "# Running for degree 0 to 5\n",
    "degrees = [0, 1, 2, 3, 4, 5]\n",
    "\n",
    "models = []\n",
    "training_rsquares = []\n",
    "training_maes = []\n",
    "training_mapes = []\n",
    "validation_rsquares = []\n",
    "validation_maes = []\n",
    "validation_mapes = []"
   ]
  },
  {
   "cell_type": "markdown",
   "metadata": {},
   "source": [
    "For each degree, we will record the R^2 score, Mean Absolute Value (MAV), Mean Absolute Percentage Error (MAPE) of both training and validation dataset for comparison between the models."
   ]
  },
  {
   "cell_type": "code",
   "execution_count": 10,
   "metadata": {},
   "outputs": [],
   "source": [
    "for degree in degrees:\n",
    "    model_features = PolynomialFeatures(degree=degree)\n",
    "    train_poly = model_features.fit_transform(X_train)\n",
    "    validation_poly = model_features.transform(X_val)\n",
    "    model = LinearRegression()\n",
    "    model.fit(train_poly, y_train)\n",
    "\n",
    "    train_pred = model.predict(train_poly)\n",
    "    validation_pred = model.predict(validation_poly)\n",
    "\n",
    "    training_rsquares.append(r2_score(y_train, train_pred))\n",
    "    training_maes.append(mean_absolute_error(y_train, train_pred))\n",
    "    training_mapes.append(mean_absolute_percentage_error(y_train, train_pred))\n",
    "\n",
    "    validation_rsquares.append(r2_score(y_val, validation_pred))\n",
    "    validation_maes.append(mean_absolute_error(y_val, validation_pred))   \n",
    "    validation_mapes.append(mean_absolute_percentage_error(y_val, validation_pred))\n",
    "    \n",
    "    models.append(model)    "
   ]
  },
  {
   "cell_type": "markdown",
   "metadata": {},
   "source": [
    "### 7. MODEL COMPARISON"
   ]
  },
  {
   "cell_type": "markdown",
   "metadata": {},
   "source": [
    "#### 7.1 REPORT THE RESULTS"
   ]
  },
  {
   "cell_type": "code",
   "execution_count": 11,
   "metadata": {},
   "outputs": [
    {
     "name": "stdout",
     "output_type": "stream",
     "text": [
      "   Train R^2  Validation R^2  Train MAE  Validation MAE  Train MAPE   \n",
      "0   0.000000       -0.008055  66.713922       62.042954    0.637647  \\\n",
      "1   0.365765        0.302543  51.951199       48.270702    0.482628   \n",
      "2   0.366837        0.296223  51.883089       48.273028    0.482172   \n",
      "3   0.366840        0.297015  51.878337       48.235127    0.482086   \n",
      "4   0.368665        0.263194  51.772629       48.367440    0.479762   \n",
      "5   0.369675        0.297578  51.760799       47.348851    0.479192   \n",
      "\n",
      "   Validation MAPE  \n",
      "0         0.579577  \n",
      "1         0.420456  \n",
      "2         0.419024  \n",
      "3         0.418775  \n",
      "4         0.414836  \n",
      "5         0.407376  \n"
     ]
    }
   ],
   "source": [
    "results_df = pd.DataFrame({\n",
    "    'Train R^2': training_rsquares,\n",
    "    'Validation R^2': validation_rsquares,\n",
    "    'Train MAE': training_maes,\n",
    "    'Validation MAE': validation_maes,\n",
    "    'Train MAPE': training_mapes,\n",
    "    'Validation MAPE': validation_mapes\n",
    "})\n",
    "\n",
    "print(results_df)"
   ]
  },
  {
   "cell_type": "markdown",
   "metadata": {},
   "source": [
    "#### 7.2 CONCLUSION FROM THE RESULTS\n",
    "\n",
    "The model with the best R^2 value for validation dataset is considered the best model."
   ]
  },
  {
   "cell_type": "code",
   "execution_count": 12,
   "metadata": {},
   "outputs": [
    {
     "name": "stdout",
     "output_type": "stream",
     "text": [
      "Best Model is of degree 1 with R^2 0.3025429471847284\n"
     ]
    }
   ],
   "source": [
    "# Find the degree of the best fit\n",
    "\n",
    "best_degree = degrees[np.argmax(validation_rsquares)]\n",
    "best_model = models[np.argmax(validation_rsquares)]\n",
    "\n",
    "print(f\"Best Model is of degree {best_degree} with R^2 {validation_rsquares[best_degree]}\")"
   ]
  },
  {
   "cell_type": "markdown",
   "metadata": {},
   "source": [
    "##### 7.2.1 RUN TEST ON THE BEST MODEL"
   ]
  },
  {
   "cell_type": "code",
   "execution_count": 13,
   "metadata": {},
   "outputs": [
    {
     "name": "stdout",
     "output_type": "stream",
     "text": [
      "Test R^2: 0.2605731984821167\n",
      "Test MSE: 4198.449565925882\n",
      "Test MAE: 52.880785447649295\n"
     ]
    }
   ],
   "source": [
    "test_poly = PolynomialFeatures(degree=best_degree).fit_transform(X_test)\n",
    "test_pred = best_model.predict(test_poly)\n",
    "test_rsquare = r2_score(y_test, test_pred)\n",
    "test_mse = mean_squared_error(y_test, test_pred)\n",
    "test_mae = mean_absolute_error(y_test, test_pred)\n",
    "\n",
    "print(\"Test R^2:\", test_rsquare)\n",
    "print(\"Test MSE:\", test_mse)\n",
    "print(\"Test MAE:\", test_mae)"
   ]
  },
  {
   "cell_type": "markdown",
   "metadata": {},
   "source": [
    "##### 7.2.2 GRAPH OF TRAINING, VALIDATION AND TEST DATAPOINTS WITH BEST FIT"
   ]
  },
  {
   "cell_type": "code",
   "execution_count": 14,
   "metadata": {},
   "outputs": [
    {
     "data": {
      "image/png": "[encoded data removed]",
      "text/plain": [
       "<Figure size 640x480 with 1 Axes>"
      ]
     },
     "metadata": {},
     "output_type": "display_data"
    }
   ],
   "source": [
    "plt.scatter(X_train, y_train, color='purple', label='Train Data')\n",
    "plt.scatter(X_val, y_val, color='magenta', label='Validation Data')\n",
    "plt.scatter(X_test, y_test, color='indigo', label='Test Data')\n",
    "plt.xlabel('BMI')\n",
    "plt.ylabel('Diabetes Progression')\n",
    "plt.title('Diabetes Progression vs BMI')\n",
    "x_values = np.linspace(X.min(), X.max(), 100)\n",
    "x_poly_values = PolynomialFeatures(degree=best_degree).fit_transform(x_values.reshape(-1, 1))\n",
    "y_values = best_model.predict(x_poly_values)\n",
    "plt.plot(x_values, y_values, color='black', label='Best Fit Line')\n",
    "plt.legend()\n",
    "plt.show()"
   ]
  },
  {
   "cell_type": "markdown",
   "metadata": {},
   "source": [
    "##### 7.2.3 EQUATION OF THE MODEL"
   ]
  },
  {
   "cell_type": "code",
   "execution_count": 15,
   "metadata": {},
   "outputs": [
    {
     "name": "stdout",
     "output_type": "stream",
     "text": [
      "Equation of the best model is:\n",
      " Diabetes Progression = -129.95 + 10.65 * BMI^1\n"
     ]
    }
   ],
   "source": [
    "coefs = best_model.coef_\n",
    "intercept = best_model.intercept_\n",
    "equation = f\"Diabetes Progression = {intercept:.2f}\"\n",
    "for i in range(1, best_degree + 1):\n",
    "    equation += f\" + {coefs[i]:.2f} * BMI^{i}\"\n",
    "print(\"Equation of the best model is:\\n\", equation)"
   ]
  },
  {
   "cell_type": "markdown",
   "metadata": {},
   "source": [
    "Manually checking expedited diabetes progression value for BMI of 25"
   ]
  },
  {
   "cell_type": "code",
   "execution_count": 16,
   "metadata": {},
   "outputs": [
    {
     "name": "stdout",
     "output_type": "stream",
     "text": [
      "Expected diabetes progression for BMI 25: 115.07869203928132\n"
     ]
    }
   ],
   "source": [
    "bmi_value = 23\n",
    "check_poly = PolynomialFeatures(degree=best_degree).fit_transform(np.array([[bmi_value]]))\n",
    "expected_progression = best_model.predict(check_poly)[0]\n",
    "print(\"Expected diabetes progression for BMI 25:\", expected_progression)"
   ]
  },
  {
   "cell_type": "markdown",
   "metadata": {},
   "source": [
    "From the target values, a BMI of 23 saw a diabetic progression around 135. Our model gives 115 which is a close prediction."
   ]
  },
  {
   "cell_type": "markdown",
   "metadata": {},
   "source": [
    "#### 7.3 TRAINABLE PARAMETERS USING _get_feature_names_out()_"
   ]
  },
  {
   "cell_type": "code",
   "execution_count": 17,
   "metadata": {},
   "outputs": [
    {
     "name": "stdout",
     "output_type": "stream",
     "text": [
      "Degree 0: 1 trainable parameters\n",
      "Features: ['1']\n",
      "Degree 1: 2 trainable parameters\n",
      "Features: ['1' 'BMI']\n",
      "Degree 2: 3 trainable parameters\n",
      "Features: ['1' 'BMI' 'BMI^2']\n",
      "Degree 3: 4 trainable parameters\n",
      "Features: ['1' 'BMI' 'BMI^2' 'BMI^3']\n",
      "Degree 4: 5 trainable parameters\n",
      "Features: ['1' 'BMI' 'BMI^2' 'BMI^3' 'BMI^4']\n",
      "Degree 5: 6 trainable parameters\n",
      "Features: ['1' 'BMI' 'BMI^2' 'BMI^3' 'BMI^4' 'BMI^5']\n"
     ]
    }
   ],
   "source": [
    "for degree, model in zip(degrees, models):\n",
    "    poly_features = PolynomialFeatures(degree=degree)\n",
    "    train_poly = poly_features.fit_transform(X_train)\n",
    "    feature_names = poly_features.get_feature_names_out(input_features=['BMI'])\n",
    "    print(f\"Degree {degree}: {train_poly.shape[1]} trainable parameters\")\n",
    "    print(f\"Features: {feature_names}\")"
   ]
  },
  {
   "cell_type": "markdown",
   "metadata": {},
   "source": [
    "For each training degree, the maximum value of the exponential power will be equal to the degree as shown above. Ex: For degree 3 the feature parameters will be 1, BMI, BMI^2, BMI^3."
   ]
  }
 ],
 "metadata": {
  "kernelspec": {
   "display_name": "CSCN8010_classic_ml",
   "language": "python",
   "name": "python3"
  },
  "language_info": {
   "codemirror_mode": {
    "name": "ipython",
    "version": 3
   },
   "file_extension": ".py",
   "mimetype": "text/x-python",
   "name": "python",
   "nbconvert_exporter": "python",
   "pygments_lexer": "ipython3",
   "version": "3.11.7"
  }
 },
 "nbformat": 4,
 "nbformat_minor": 2
}
